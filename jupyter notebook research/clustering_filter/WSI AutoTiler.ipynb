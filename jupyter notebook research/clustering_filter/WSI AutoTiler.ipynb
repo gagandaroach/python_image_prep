{
 "cells": [
  {
   "cell_type": "markdown",
   "metadata": {},
   "source": [
    "# WSI AutoTiler\n",
    "\n",
    ">Converting large `.tiff` WSI `into 1024x1024.pngs` images\n",
    "\n",
    "Gagan Daroach"
   ]
  },
  {
   "cell_type": "code",
   "execution_count": 1,
   "metadata": {},
   "outputs": [],
   "source": [
    "import os\n",
    "import re\n",
    "import statistics\n",
    "import cv2\n",
    "import tensorflow as tf\n",
    "import numpy as np\n",
    "from sklearn.cluster import MiniBatchKMeans\n",
    "%matplotlib inline\n",
    "from matplotlib import pyplot as plt\n",
    "from datetime import datetime"
   ]
  },
  {
   "cell_type": "code",
   "execution_count": 2,
   "metadata": {},
   "outputs": [],
   "source": [
    "def load_all_img_paths(dir_to_search):\n",
    "    filepaths = []\n",
    "    for subdir, dirs, files in os.walk(dir_to_search):\n",
    "        for file in files:\n",
    "            if is_wsi(file):\n",
    "                filepath = os.path.join(subdir, file)\n",
    "                filepaths.append(filepath)\n",
    "    return filepaths"
   ]
  },
  {
   "cell_type": "code",
   "execution_count": 3,
   "metadata": {},
   "outputs": [],
   "source": [
    "def is_wsi(img_path):\n",
    "    '''\n",
    "    Checks if filename is like 145_12.tiff.\n",
    "    '''\n",
    "    filename = os.path.basename(img_path)\n",
    "    wsi_tiff_regex = '\\d+_\\d+.tif'\n",
    "    x = re.search(wsi_tiff_regex, filename)\n",
    "    if x is None:\n",
    "        return False\n",
    "    if filename.startswith('._'):\n",
    "        return False\n",
    "    return True"
   ]
  },
  {
   "cell_type": "code",
   "execution_count": 4,
   "metadata": {},
   "outputs": [],
   "source": [
    "def create_image_mask(img, print_time=False):\n",
    "    starttime = datetime.now()\n",
    "    img_pixel_list = img.reshape((img.shape[0] * img.shape[1], 3))\n",
    "    cluster = MiniBatchKMeans(2, tol=0.2)\n",
    "    cluster.fit(img_pixel_list.astype('uint8'))\n",
    "    pixel_labels = cluster.labels_\n",
    "    img_mask = pixel_labels.reshape((img.shape[0],img.shape[1]))\n",
    "    if print_time:\n",
    "        print((datetime.now()-starttime).seconds)\n",
    "    return img_mask"
   ]
  },
  {
   "cell_type": "code",
   "execution_count": 5,
   "metadata": {},
   "outputs": [],
   "source": [
    "def downsample_img(img, num_downsamples=1):\n",
    "    ds_img = img\n",
    "    for i in range(0,num_downsamples):\n",
    "        ds_img = cv2.pyrDown(ds_img)\n",
    "    return ds_img"
   ]
  },
  {
   "cell_type": "code",
   "execution_count": 6,
   "metadata": {},
   "outputs": [],
   "source": [
    "def most_common_pixel_in_img(img):\n",
    "    mode = statistics.mode(img.flatten())\n",
    "    return mode"
   ]
  },
  {
   "cell_type": "code",
   "execution_count": 7,
   "metadata": {},
   "outputs": [],
   "source": [
    "def mask_crop_to_wsi_crop(mask_crop,wsi,mask_x,mask_y,x_ratio,y_ratio,target_png_shape):\n",
    "    wsi_x = mask_x*x_ratio\n",
    "    wsi_y = mask_y*y_ratio\n",
    "    return wsi[wsi_y:wsi_y+target_png_shape,wsi_x:wsi_x+target_png_shape]"
   ]
  },
  {
   "cell_type": "code",
   "execution_count": 8,
   "metadata": {},
   "outputs": [],
   "source": [
    "def crawl(mask, wsi, target_png_shape=1024):\n",
    "    w_shape = wsi.shape\n",
    "    m_shape = mask.shape\n",
    "    y_ratio = int(w_shape[0]/m_shape[0])\n",
    "    x_ratio = int(w_shape[1]/m_shape[1])\n",
    "    mask_crops = []\n",
    "    wsi_crops = []\n",
    "    wsi_crops_passed = []\n",
    "    mask_shape = int(target_png_shape/16) #if scale is 4x\n",
    "    tissue_classification_color = most_common_pixel_in_img(mask)\n",
    "    for y in range(0,len(mask),50):\n",
    "        for x in range(0,len(mask[0]),50):\n",
    "            mask_crop = mask[y:y+mask_shape,x:x+mask_shape]\n",
    "            wsi_crop = mask_crop_to_wsi_crop(mask_crop, wsi, x, y, x_ratio, y_ratio, target_png_shape)\n",
    "            mask_crops.append((mask_crop, wsi_crop))\n",
    "            if most_common_pixel_in_img(mask_crop)==tissue_classification_color:\n",
    "                wsi_crops.append(wsi_crop)\n",
    "            else:\n",
    "                wsi_crops_passed.append(wsi_crop)\n",
    "    return wsi_crops, wsi_crops_passed, mask_crops"
   ]
  },
  {
   "cell_type": "code",
   "execution_count": 9,
   "metadata": {},
   "outputs": [],
   "source": [
    "def save_images(crops, img_path, output_dir):\n",
    "    wsi_name = os.path.basename(img_path)\n",
    "    # matches\n",
    "    match_directory = os.path.join(output_dir, 'match')\n",
    "    pass_directory = os.path.join(output_dir, 'pass')\n",
    "    mask_directory = os.path.join(output_dir, 'mask')\n",
    "    \n",
    "    wsi_crops = crops[0]\n",
    "    for i, img in enumerate(wsi_crops):\n",
    "        filename = f'{wsi_name}_{i}.png'\n",
    "        full_path = os.path.join(match_directory, filename)\n",
    "        cv2.imwrite(full_path, img)\n",
    "        print(f'saved: {filename}')\n",
    "        \n",
    "    wsi_crops_passed = crops[1]\n",
    "    for i, img in enumerate(wsi_crops_passed):\n",
    "        filename = f'{wsi_name}_pass_{i}.png'\n",
    "        full_path = os.path.join(pass_directory, filename)\n",
    "        cv2.imwrite(full_path, img)\n",
    "        print(f'saved: {filename}')\n",
    "        \n",
    "#     masks = crops[2]\n",
    "#     for i, img in enumerate(masks):\n",
    "#         filename = f'{wsi_name}_mask_{i}.png'\n",
    "#         full_path = os.path.join(mask_directory, filename)\n",
    "#         cv2.imwrite(full_path, img)\n",
    "#         print(f'saved: {filename}')"
   ]
  },
  {
   "cell_type": "code",
   "execution_count": 10,
   "metadata": {},
   "outputs": [],
   "source": [
    "input_tiff_dir = '/srv/tank/mcw/Prostates'\n",
    "output_dir ='/srv/tank/mcw/autotiler'"
   ]
  },
  {
   "cell_type": "code",
   "execution_count": 11,
   "metadata": {},
   "outputs": [],
   "source": [
    "def main():\n",
    "    wsi_paths = load_all_img_paths(input_tiff_dir)\n",
    "    print('Loaded These tiffs')\n",
    "    for x in wsi_paths:\n",
    "        print(f'{os.path.basename(x)}')\n",
    "    print(wsi_paths[0])\n",
    "    for img_path in wsi_paths:\n",
    "        print(f'starting on {img_path}')\n",
    "        wsi_img = cv2.imread(img_path)\n",
    "        downscaled_4x = downsample_img(wsi_img, 4)\n",
    "        mask_4x = create_image_mask(downscaled_4x)\n",
    "        crops = crawl(mask_4x, wsi_img)\n",
    "        save_images(crops, img_path, output_dir)"
   ]
  },
  {
   "cell_type": "code",
   "execution_count": null,
   "metadata": {},
   "outputs": [
    {
     "name": "stdout",
     "output_type": "stream",
     "text": [
      "Loaded These tiffs\n",
      "146_7.tiff\n",
      "216_11.tiff\n",
      "149_8.tiff\n",
      "209_14.tiff\n",
      "150_6.tiff\n",
      "152_8.tiff\n",
      "145_11.tiff\n",
      "163_8.tiff\n",
      "179_8.tiff\n",
      "181_9.tiff\n",
      "151_8.tiff\n",
      "164_8.tiff\n",
      "148_9.tiff\n",
      "215_10.tiff\n",
      "211_13.tiff\n",
      "212_14.tiff\n",
      "147_10.tiff\n",
      "210_2.tiff\n",
      "180_11.tiff\n",
      "214_14.tiff\n",
      "/srv/tank/mcw/Prostates/146_7/146_7.tiff\n",
      "starting on /srv/tank/mcw/Prostates/146_7/146_7.tiff\n",
      "saved: 146_7.tiff_0.png\n",
      "saved: 146_7.tiff_1.png\n",
      "saved: 146_7.tiff_2.png\n"
     ]
    }
   ],
   "source": [
    "main()"
   ]
  },
  {
   "cell_type": "code",
   "execution_count": null,
   "metadata": {},
   "outputs": [],
   "source": []
  }
 ],
 "metadata": {
  "kernelspec": {
   "display_name": "Python 3",
   "language": "python",
   "name": "python3"
  },
  "language_info": {
   "codemirror_mode": {
    "name": "ipython",
    "version": 3
   },
   "file_extension": ".py",
   "mimetype": "text/x-python",
   "name": "python",
   "nbconvert_exporter": "python",
   "pygments_lexer": "ipython3",
   "version": "3.6.8"
  }
 },
 "nbformat": 4,
 "nbformat_minor": 2
}
